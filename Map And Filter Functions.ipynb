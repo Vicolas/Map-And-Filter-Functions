{
 "cells": [
  {
   "cell_type": "code",
   "execution_count": 1,
   "id": "2b8789e8",
   "metadata": {},
   "outputs": [
    {
     "name": "stdout",
     "output_type": "stream",
     "text": [
      "<map object at 0x7fa266cda040>\n",
      "None\n",
      "Cappuccino\n",
      "None\n",
      "None\n",
      "Cortado\n",
      "None\n",
      "None\n",
      "None\n",
      "None\n",
      "None\n",
      "None\n",
      "Café au Lait\n"
     ]
    }
   ],
   "source": [
    "# Map and Filter function --> used to generate a list from an existing list\n",
    "\n",
    "menu = [\"Latte\", \"Cappuccino\", \"Americano\", \"Espresso\", \"Cortado\", \"Mocha\", \n",
    "     \"Macchiato\", \"Flat White\", \"Decaf\", \"Irish Coffee\", \n",
    "     \"Iced Coffee\", \"Café au Lait\"]\n",
    "\n",
    "# To filter the above list for specific coffees (all coffees starting with the letter \"C\")\n",
    "# I will create a function first as a map then as a filter function\n",
    "\n",
    "# Features of a map function --> the map() accepts 2 args. The 1st arg. is an actual function\n",
    "# In this case, it will be the function that I will use to match values based on a condition.\n",
    "# 2nd arg. articles passed through the function i.e the coffees from my menu list\n",
    "\n",
    "# creating a function with a condition\n",
    "def find_coffee(coffee):         #find_coffee --> name of function, (coffee) --> coffees in my list (single parameter)\n",
    "    if coffee[0] == 'C':         # If statement to check if the 1st letter of any coffee starts with \"C\"\n",
    "        return coffee\n",
    "    \n",
    "# using the map function\n",
    "map_coffee = map(find_coffee, menu)   # notice the arguments in map. The 1st is the function itself passedd as an arg.                                        \n",
    "print(map_coffee)                     # while the second is the the article, menu \n",
    "for x in map_coffee:                  # here I iterate through the map object\n",
    "    print(x)\n",
    "    \n",
    "    \n",
    "# The result will have the coffees with the initial letter as 'C' listed as well as a \n",
    "# bunch of 'None' values representing other elements of the list.\n",
    "\n",
    "    "
   ]
  },
  {
   "cell_type": "code",
   "execution_count": 2,
   "id": "4e98a883",
   "metadata": {},
   "outputs": [
    {
     "name": "stdout",
     "output_type": "stream",
     "text": [
      "<filter object at 0x7fa266d59e50>\n",
      "Cappuccino\n",
      "Cortado\n",
      "Café au Lait\n"
     ]
    }
   ],
   "source": [
    "# The filter function works pretty much the same as the map function\n",
    "\n",
    "# using the filter function\n",
    "filter_coffee = filter(find_coffee, menu)   \n",
    "print(filter_coffee)                      \n",
    "for x in filter_coffee:                  \n",
    "    print(x)\n",
    "    \n",
    "    \n",
    "#the difference between a map and a filter function. A map takes all objects in the list and allows you \n",
    "#to apply a function to it. A filter also allows you to take in all objects in the list and runs \n",
    "#through a function but it creates a new list and only returns values where the evaluated function \n",
    "#returns true. That is why there are no none values displayed in the output for the filter function.\n",
    "\n",
    "# in short map() returns every item in an iterable and filter() returns values if True."
   ]
  },
  {
   "cell_type": "code",
   "execution_count": null,
   "id": "c94a2be1",
   "metadata": {},
   "outputs": [],
   "source": []
  }
 ],
 "metadata": {
  "kernelspec": {
   "display_name": "Python 3 (ipykernel)",
   "language": "python",
   "name": "python3"
  },
  "language_info": {
   "codemirror_mode": {
    "name": "ipython",
    "version": 3
   },
   "file_extension": ".py",
   "mimetype": "text/x-python",
   "name": "python",
   "nbconvert_exporter": "python",
   "pygments_lexer": "ipython3",
   "version": "3.9.12"
  }
 },
 "nbformat": 4,
 "nbformat_minor": 5
}
